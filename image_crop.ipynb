{
 "cells": [
  {
   "cell_type": "code",
   "execution_count": 42,
   "metadata": {},
   "outputs": [],
   "source": [
    "import torch\n",
    "import pandas as pd\n",
    "import os\n",
    "import torch.utils.data as data\n",
    "import torch.nn as nn\n",
    "import torch.nn.functional as F\n",
    "import numpy as np\n",
    "import natsort\n",
    "from PIL import Image\n",
    "import matplotlib.pyplot as plt\n",
    "\n",
    "import torchvision.transforms as transforms\n"
   ]
  },
  {
   "cell_type": "code",
   "execution_count": 43,
   "metadata": {},
   "outputs": [],
   "source": [
    "TRAIN_DATA_PATH = \"/home/filipe/Downloads/research/cifar-10/train/\"\n",
    "BATCH_SIZE = 256\n"
   ]
  },
  {
   "cell_type": "code",
   "execution_count": 44,
   "metadata": {},
   "outputs": [],
   "source": [
    "class Cifar10Dataloader(torch.utils.data.Dataset):\n",
    "\n",
    "    def __init__(self, main_dir: str, class_file: str, label_column: str, sub_images: tuple):\n",
    "\n",
    "        all_imgs = os.listdir(main_dir)\n",
    "        self.main_dir = main_dir\n",
    "        self.X = natsort.natsorted(all_imgs)\n",
    "        self.y = pd.read_csv(class_file)[label_column].values\n",
    "        self.sub_images = sub_images\n",
    "\n",
    "        self.base_transformers = transforms.Compose([\n",
    "            transforms.PILToTensor()\n",
    "        ])\n",
    "\n",
    "    def __len__(self):\n",
    "        return len(self.X)\n",
    "\n",
    "    def __getitem__(self, index):\n",
    "        img_loc = os.path.join(self.main_dir, self.X[index])\n",
    "        image = Image.open(img_loc).convert(\"RGB\")\n",
    "        tensor_image = self.base_transformers(image)\n",
    "\n",
    "        size_x = tensor_image.size(dim=1) // self.sub_images[0]\n",
    "        size_y = tensor_image.size(dim=2) // self.sub_images[1]\n",
    "        start_x = 0\n",
    "        sub_tensors = [torch.rand(size_x * size_y * 3)]\n",
    "\n",
    "        for cut_x in range(self.sub_images[0]):\n",
    "            start_y = 0\n",
    "            for cut_y in range(self.sub_images[1]):\n",
    "                sub_tensors.append(\n",
    "                    tensor_image[:, start_x:size_x*cut_x+size_x, start_y:size_y*cut_y+size_y].flatten() / 255)\n",
    "\n",
    "                start_y += size_y\n",
    "            start_x += size_x\n",
    "\n",
    "        return torch.cat(sub_tensors).reshape(1+self.sub_images[0]*self.sub_images[1], size_x*size_y*3)\n"
   ]
  },
  {
   "cell_type": "code",
   "execution_count": 45,
   "metadata": {},
   "outputs": [],
   "source": [
    "def plot_images(tensors, shape, figsize, img_shape_restore):\n",
    "    # fig, axs = plt.subplots(*shape)\n",
    "\n",
    "    fig = plt.figure(figsize=figsize)  # Notice the equal aspect ratio\n",
    "    ax = [fig.add_subplot(*shape, i+1) for i in range(shape[0] * shape[1])]\n",
    "    \n",
    "    tensors = tensors[0]\n",
    "\n",
    "    for i in range(shape[0]):\n",
    "        for j in range(shape[1]):\n",
    "            idx = i * shape[1] + j\n",
    "            img = tensors[idx].reshape(img_shape_restore)\n",
    "\n",
    "            ax[idx].get_xaxis().set_visible(False)\n",
    "            ax[idx].get_yaxis().set_visible(False)            \n",
    "            ax[idx].imshow(img.permute(1, 2, 0))\n",
    "\n",
    "    \n",
    "    plt.subplots_adjust(wspace=0.1, hspace=0.1)\n",
    "    plt.show()\n"
   ]
  },
  {
   "cell_type": "code",
   "execution_count": 46,
   "metadata": {},
   "outputs": [],
   "source": [
    "cifar_data = Cifar10Dataloader(\"/home/filipe/Downloads/research/cifar-10/train/\",\n",
    "                               \"/home/filipe/Downloads/research/cifar-10/trainLabels.csv\", \"label\", (3, 3))\n"
   ]
  },
  {
   "cell_type": "code",
   "execution_count": 47,
   "metadata": {},
   "outputs": [],
   "source": [
    "test_data_loader = data.DataLoader(\n",
    "    cifar_data, batch_size=BATCH_SIZE, shuffle=False, num_workers=1)\n"
   ]
  },
  {
   "cell_type": "code",
   "execution_count": 48,
   "metadata": {},
   "outputs": [
    {
     "data": {
      "image/png": "[encoded data removed]",
      "text/plain": [
       "<Figure size 144x144 with 9 Axes>"
      ]
     },
     "metadata": {
      "needs_background": "light"
     },
     "output_type": "display_data"
    },
    {
     "data": {
      "image/png": "[encoded data removed]",
      "text/plain": [
       "<Figure size 720x720 with 9 Axes>"
      ]
     },
     "metadata": {
      "needs_background": "light"
     },
     "output_type": "display_data"
    }
   ],
   "source": [
    "for _data in test_data_loader:\n",
    "    plot_images(_data[: , 1:], (3, 3), figsize=(2,2), img_shape_restore=(3,10,10))\n",
    "    plot_images(_data[: , 1:], (1, 9), figsize=(10,10), img_shape_restore=(3,10,10))\n",
    "    break\n"
   ]
  },
  {
   "cell_type": "code",
   "execution_count": 49,
   "metadata": {},
   "outputs": [],
   "source": [
    "class SelfAttention(nn.Module):\n",
    "    def __init__(self, embed_size, heads):\n",
    "        super(SelfAttention, self).__init__()\n",
    "\n",
    "        self.embed_size = embed_size\n",
    "        self.heads = heads\n",
    "        self.head_dim = embed_size // heads\n",
    "\n",
    "        assert (self.head_dim * heads ==\n",
    "                embed_size), f\"Embed size needs to be divisible by heads ({heads})\"\n",
    "\n",
    "        self.tovalues = nn.Linear(embed_size, embed_size, bias=False)\n",
    "        self.tokeys = nn.Linear(embed_size, embed_size, bias=False)\n",
    "        self.toqueries = nn.Linear(embed_size, embed_size, bias=False)\n",
    "\n",
    "        self.fc_out = nn.Linear(heads*self.head_dim, embed_size)\n",
    "\n",
    "    def forward(self, x):\n",
    "        \n",
    "        N, batch, embedding = x.size()\n",
    "        assert embedding == self.embed_size, f'Input embedding dim ({embedding}) should match layer embedding dim ({self.emb})'\n",
    "\n",
    "        keys    = self.tokeys(x)\n",
    "        queries = self.toqueries(x)\n",
    "        values  = self.tovalues(x)\n",
    "\n",
    "        keys    = keys.view(N, batch, self.heads, self.head_dim)\n",
    "        queries = queries.view(N, batch, self.heads, self.head_dim)\n",
    "        values  = values.view(N, batch, self.heads, self.head_dim)\n",
    "\n",
    "        energy = torch.einsum(\"nqhd,nkhd->nhqk\", [queries, keys])\n",
    "        # queries shape(N:n, query_len: q, heads: h, heads_dim: d) => nqhd\n",
    "        # keys shape(N:n, key_len: k, heads: h, heads_dim: d) => nkhd\n",
    "        # energy shape(N:n, heads: h, query_len: q, key_len:k) => nhqk\n",
    "\n",
    "        attention = torch.softmax(energy / (self.embed_size ** (1/2)), dim=3)\n",
    "\n",
    "        out = torch.einsum(\"nhqk,nkhd->nqhd\", [attention, values])\n",
    "        # attetion shape(N:n, heads: h, query_len: q, key_len: k) => nhqk\n",
    "        # values shape(N:n, values_len: v, heads: h, heads_dim: d) => nvhd (v = k) nkhd\n",
    "        # out shape(N:n, query_len: q, heads: h, heads_dim: d) => nqhd\n",
    "\n",
    "        out = out.reshape(N, batch, self.heads*self.head_dim)\n",
    "\n",
    "        out = self.fc_out(out)\n",
    "        return out"
   ]
  },
  {
   "cell_type": "code",
   "execution_count": 50,
   "metadata": {},
   "outputs": [],
   "source": [
    "class TransformerBlock(nn.Module):\n",
    "    def __init__(self, embed_size, heads, ff_hidden_mult=4, dropout=0.2):\n",
    "        super(TransformerBlock, self).__init__()\n",
    "        \n",
    "        self.attention = SelfAttention(embed_size, heads)\n",
    "\n",
    "        self.norm1 = nn.LayerNorm(embed_size)\n",
    "        self.norm2 = nn.LayerNorm(embed_size)\n",
    "\n",
    "        self.ff = nn.Sequential(\n",
    "            nn.Linear(embed_size, ff_hidden_mult * embed_size),\n",
    "            nn.GELU(),\n",
    "            nn.Linear(ff_hidden_mult * embed_size, embed_size)\n",
    "        )\n",
    "\n",
    "        self.dropout = nn.Dropout(dropout)\n",
    "\n",
    "    def forward(self, x, mask):\n",
    "\n",
    "        _x = self.norm1(x)\n",
    "\n",
    "        attention = self.dropout(self.attention(_x))\n",
    "\n",
    "        x = attention + x\n",
    "\n",
    "        _x = self.norm2(x)\n",
    "        _x = self.dropout(self.ff(_x))\n",
    "\n",
    "        return _x + x\n"
   ]
  },
  {
   "cell_type": "code",
   "execution_count": 123,
   "metadata": {},
   "outputs": [],
   "source": [
    "class VisionTransformer(nn.Module):\n",
    "\n",
    "    def __init__(self, n_images, embed_size, n_classes, heads=5, n_transformers=5):\n",
    "        super(VisionTransformer, self).__init__()\n",
    "\n",
    "        self.n_transformers = n_transformers\n",
    "        self.n_classes = n_classes\n",
    "\n",
    "        self.image_embbeding = nn.Linear(embed_size, embed_size)\n",
    "        self.position_embbeding = nn.Linear(n_images, embed_size)\n",
    "        self.transformer_block = TransformerBlock(embed_size, heads)\n",
    "\n",
    "        self.linear_to_classes = nn.Linear(embed_size*n_images, n_classes)\n",
    "\n",
    "    def forward(self, x):\n",
    "        batch, n, embed_size = x.size()\n",
    "\n",
    "        positions = torch.tensor(range(0, n)).float().cuda()\n",
    "\n",
    "        position_embed = self.position_embbeding(positions)\n",
    "        img_embed = self.image_embbeding(x)\n",
    "\n",
    "        x = position_embed + img_embed\n",
    "\n",
    "        for i in range(self.n_transformers):\n",
    "            x = self.transformer_block(x, None)\n",
    "\n",
    "        x = x.view(batch, n*embed_size)\n",
    "\n",
    "        x = self.linear_to_classes(x)\n",
    "        x = torch.softmax(x, dim=1)\n",
    "\n",
    "        return x\n"
   ]
  },
  {
   "cell_type": "code",
   "execution_count": 124,
   "metadata": {},
   "outputs": [
    {
     "data": {
      "text/plain": [
       "VisionTransformer(\n",
       "  (image_embbeding): Linear(in_features=300, out_features=300, bias=True)\n",
       "  (position_embbeding): Linear(in_features=10, out_features=300, bias=True)\n",
       "  (transformer_block): TransformerBlock(\n",
       "    (attention): SelfAttention(\n",
       "      (tovalues): Linear(in_features=300, out_features=300, bias=False)\n",
       "      (tokeys): Linear(in_features=300, out_features=300, bias=False)\n",
       "      (toqueries): Linear(in_features=300, out_features=300, bias=False)\n",
       "      (fc_out): Linear(in_features=300, out_features=300, bias=True)\n",
       "    )\n",
       "    (norm1): LayerNorm((300,), eps=1e-05, elementwise_affine=True)\n",
       "    (norm2): LayerNorm((300,), eps=1e-05, elementwise_affine=True)\n",
       "    (ff): Sequential(\n",
       "      (0): Linear(in_features=300, out_features=1200, bias=True)\n",
       "      (1): GELU(approximate=none)\n",
       "      (2): Linear(in_features=1200, out_features=300, bias=True)\n",
       "    )\n",
       "    (dropout): Dropout(p=0.2, inplace=False)\n",
       "  )\n",
       "  (linear_to_classes): Linear(in_features=3000, out_features=10, bias=True)\n",
       ")"
      ]
     },
     "execution_count": 124,
     "metadata": {},
     "output_type": "execute_result"
    }
   ],
   "source": [
    "net = VisionTransformer(10, 300, 10)\n",
    "net.cuda()"
   ]
  },
  {
   "cell_type": "code",
   "execution_count": 125,
   "metadata": {},
   "outputs": [],
   "source": [
    "for _data in test_data_loader:\n",
    "    _data = _data.float()\n",
    "    _data = _data.cuda()\n",
    "    \n",
    "    res = net.forward(_data)"
   ]
  },
  {
   "cell_type": "code",
   "execution_count": 132,
   "metadata": {},
   "outputs": [
    {
     "data": {
      "text/plain": [
       "tensor([0.0400, 0.0000, 0.4900, 0.0400, 0.0500, 0.0600, 0.0000, 0.0000, 0.3100,\n",
       "        0.0000], device='cuda:0', grad_fn=<RoundBackward1>)"
      ]
     },
     "execution_count": 132,
     "metadata": {},
     "output_type": "execute_result"
    }
   ],
   "source": [
    "res[0].round(decimals=2)"
   ]
  },
  {
   "cell_type": "code",
   "execution_count": null,
   "metadata": {},
   "outputs": [],
   "source": []
  }
 ],
 "metadata": {
  "kernelspec": {
   "display_name": "Python 3.8.10 ('venv': venv)",
   "language": "python",
   "name": "python3"
  },
  "language_info": {
   "codemirror_mode": {
    "name": "ipython",
    "version": 3
   },
   "file_extension": ".py",
   "mimetype": "text/x-python",
   "name": "python",
   "nbconvert_exporter": "python",
   "pygments_lexer": "ipython3",
   "version": "3.8.10"
  },
  "orig_nbformat": 4,
  "vscode": {
   "interpreter": {
    "hash": "6953c43fdf4b12e1e8007e6ef7318610c293c647cfed29d03b368ed7e54a8ea1"
   }
  }
 },
 "nbformat": 4,
 "nbformat_minor": 2
}
